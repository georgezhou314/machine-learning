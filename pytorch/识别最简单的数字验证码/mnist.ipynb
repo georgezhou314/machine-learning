{
 "cells": [
  {
   "cell_type": "code",
   "execution_count": 24,
   "metadata": {},
   "outputs": [],
   "source": [
    "'''\n",
    "一个最简单的识别验证码的程序，验证码经过分割 灰度 二值化处理\n",
    "使用类似LeNet的结果，识别成功率很高，达到了99.2%\n",
    "'''\n",
    "import time\n",
    "import torch\n",
    "from torch import nn,optim\n",
    "import numpy as np\n",
    "from torchvision import datasets,transforms,utils\n",
    "device = torch.device('cuda' if torch.cuda.is_available() else 'cpu')"
   ]
  },
  {
   "cell_type": "markdown",
   "metadata": {},
   "source": [
    "## 定义网络"
   ]
  },
  {
   "cell_type": "code",
   "execution_count": 25,
   "metadata": {},
   "outputs": [
    {
     "name": "stdout",
     "output_type": "stream",
     "text": [
      "tensor([[ 0.5304,  0.3495,  0.3481, -0.2103,  0.1750, -0.2622,  0.3833, -0.0615,\n",
      "          0.3448, -0.2174]], grad_fn=<AddmmBackward>)\n"
     ]
    }
   ],
   "source": [
    "# 注意，这里的图片的大小是1*18*18，不是文中给出的例图的大小\n",
    "class LeNet(nn.Module):\n",
    "    def __init__(self):\n",
    "        super(LeNet,self).__init__()\n",
    "        self.conv = nn.Sequential(\n",
    "            nn.Conv2d(1,6,5),\n",
    "            nn.Sigmoid(),\n",
    "            nn.MaxPool2d(2,2),\n",
    "            nn.Conv2d(6,16,5),\n",
    "            nn.Sigmoid(),\n",
    "            nn.MaxPool2d(2,2)\n",
    "        )\n",
    "        self.fc = nn.Sequential(\n",
    "            nn.Linear(16,10)\n",
    "            #nn.Linear(16*1*1,120),\n",
    "            #nn.Sigmoid(),\n",
    "            #nn.Linear(120,84),\n",
    "            #nn.Sigmoid(),\n",
    "            #nn.Linear(84,10)\n",
    "            \n",
    "        )\n",
    "    def forward(self,img):\n",
    "        # 把三维图片压缩成1维的，由于第2维和第三维都一样\n",
    "        img = img[0:,0,0:,0:]\n",
    "        img = img.unsqueeze(dim=1)\n",
    "        feature = self.conv(img)\n",
    "        output = self.fc(feature.view(img.shape[0],-1))\n",
    "        return output\n",
    "net = LeNet()\n",
    "# print(net)\n",
    "# 检测是否能正常处理图片数据\n",
    "x = torch.randn(1,3,18,18)\n",
    "y = net(x)\n",
    "print(y)"
   ]
  },
  {
   "cell_type": "markdown",
   "metadata": {},
   "source": [
    "## 获取数据训练"
   ]
  },
  {
   "cell_type": "code",
   "execution_count": 26,
   "metadata": {},
   "outputs": [],
   "source": [
    "batch_size = 32\n",
    "# 其中的数据，按照文件夹名字进行分类，例如 目录0下的所有图片都是字符0\n",
    "train_data = datasets.ImageFolder(r\"/home/george/number/split\",transform=\n",
    "                                  transforms.Compose([transforms.ToTensor()]))\n",
    "test_data = datasets.ImageFolder(r\"/home/george/number/split_test\",transform=\n",
    "                                  transforms.Compose([transforms.ToTensor()]))\n",
    "# [0,1,2,3,4,...9]\n",
    "# classes =  train_data.classes\n",
    "# print('classes',len(classes))\n",
    "train_iter = torch.utils.data.DataLoader(train_data,batch_size=batch_size,shuffle=True)\n",
    "test_iter = torch.utils.data.DataLoader(test_data,batch_size=batch_size,shuffle=True)"
   ]
  },
  {
   "cell_type": "markdown",
   "metadata": {},
   "source": [
    "### 定义测试评估函数，使用的是d2lzh_pytorch中的定义"
   ]
  },
  {
   "cell_type": "code",
   "execution_count": 27,
   "metadata": {},
   "outputs": [],
   "source": [
    "def evaluate_accuracy(data_iter, net, device=None):\n",
    "    if device is None and isinstance(net, torch.nn.Module):\n",
    "        # 如果没指定device就使用net的device\n",
    "        device = list(net.parameters())[0].device \n",
    "    acc_sum, n = 0.0, 0\n",
    "    with torch.no_grad():\n",
    "        for X, y in data_iter:\n",
    "            if isinstance(net, torch.nn.Module):\n",
    "                net.eval() # 评估模式, 这会关闭dropout\n",
    "                acc_sum += (net(X.to(device)).argmax(dim=1) == y.to(device)).float().sum().cpu().item()\n",
    "                net.train() # 改回训练模式\n",
    "            else: # 自定义的模型, 3.13节之后不会用到, 不考虑GPU\n",
    "                if('is_training' in net.__code__.co_varnames): # 如果有is_training这个参数\n",
    "                    # 将is_training设置成False\n",
    "                    acc_sum += (net(X, is_training=False).argmax(dim=1) == y).float().sum().item() \n",
    "                else:\n",
    "                    acc_sum += (net(X).argmax(dim=1) == y).float().sum().item() \n",
    "            n += y.shape[0]\n",
    "    return acc_sum / n"
   ]
  },
  {
   "cell_type": "markdown",
   "metadata": {},
   "source": [
    "## 训练函数"
   ]
  },
  {
   "cell_type": "code",
   "execution_count": 28,
   "metadata": {},
   "outputs": [],
   "source": [
    "def train_ch5(net,train_iter,test_iter,batch_size,optimizer,device,num_epochs):\n",
    "    net = net.to(device)\n",
    "    print(\"training on \",device)\n",
    "    loss = torch.nn.CrossEntropyLoss()\n",
    "    for epoch in range(num_epochs):\n",
    "        train_l_sum,train_acc_sum,n,batch_count,start = 0.0,0.0,0,0,time.time()\n",
    "        for x,y in train_iter:\n",
    "            x = x.to(device)\n",
    "            y = y.to(device)\n",
    "            y_hat = net(x)\n",
    "            l = loss(y_hat,y)\n",
    "            optimizer.zero_grad()\n",
    "            l.backward()\n",
    "            optimizer.step()\n",
    "            train_l_sum += l.cpu().item()\n",
    "            train_acc_sum += (y_hat.argmax(dim=1) == y).sum().cpu().item()\n",
    "            n += y.shape[0]\n",
    "            batch_count += 1\n",
    "        test_acc = evaluate_accuracy(test_iter,net)\n",
    "        print('epoch %d,loss %.4f,train acc %.3f,test acc %.3f,time %.1f sec' \n",
    "              %(epoch+1,train_l_sum/batch_count,train_acc_sum/n,test_acc,time.time()-start))"
   ]
  },
  {
   "cell_type": "code",
   "execution_count": 29,
   "metadata": {},
   "outputs": [
    {
     "name": "stdout",
     "output_type": "stream",
     "text": [
      "training on  cuda\n",
      "epoch 1,loss 2.3111,train acc 0.100,test acc 0.230,time 0.2 sec\n",
      "epoch 2,loss 2.0936,train acc 0.392,test acc 0.580,time 0.2 sec\n",
      "epoch 3,loss 1.3674,train acc 0.751,test acc 0.979,time 0.2 sec\n",
      "epoch 4,loss 0.6405,train acc 0.989,test acc 0.992,time 0.2 sec\n",
      "epoch 5,loss 0.2863,train acc 0.996,test acc 0.992,time 0.2 sec\n"
     ]
    }
   ],
   "source": [
    "lr,num_epochs = 0.01,5\n",
    "optimizer = torch.optim.Adam(net.parameters(),lr=lr)\n",
    "train_ch5(net,train_iter,test_iter,batch_size,optimizer,device,num_epochs)"
   ]
  },
  {
   "cell_type": "markdown",
   "metadata": {},
   "source": [
    "### 随便加载一张图，来测试，手动观察是否识别成功"
   ]
  },
  {
   "cell_type": "code",
   "execution_count": 30,
   "metadata": {},
   "outputs": [
    {
     "name": "stdout",
     "output_type": "stream",
     "text": [
      "2\n"
     ]
    }
   ],
   "source": [
    "toy_data = datasets.ImageFolder(r\"/home/george/number/manual\",transform=\n",
    "                                  transforms.Compose([transforms.ToTensor()]))\n",
    "toy_iter = torch.utils.data.DataLoader(toy_data,batch_size=1,shuffle=True)\n",
    "for img,label in toy_iter:\n",
    "    img = img.to(device)\n",
    "    output = net(img)\n",
    "    print(output.argmax(dim=1).item())"
   ]
  },
  {
   "cell_type": "code",
   "execution_count": null,
   "metadata": {},
   "outputs": [],
   "source": []
  },
  {
   "cell_type": "code",
   "execution_count": null,
   "metadata": {},
   "outputs": [],
   "source": []
  },
  {
   "cell_type": "code",
   "execution_count": null,
   "metadata": {},
   "outputs": [],
   "source": []
  },
  {
   "cell_type": "code",
   "execution_count": null,
   "metadata": {},
   "outputs": [],
   "source": []
  },
  {
   "cell_type": "code",
   "execution_count": null,
   "metadata": {},
   "outputs": [],
   "source": []
  },
  {
   "cell_type": "code",
   "execution_count": null,
   "metadata": {},
   "outputs": [],
   "source": []
  },
  {
   "cell_type": "code",
   "execution_count": null,
   "metadata": {},
   "outputs": [],
   "source": []
  }
 ],
 "metadata": {
  "kernelspec": {
   "display_name": "Python [conda env:pytorch]",
   "language": "python",
   "name": "conda-env-pytorch-py"
  },
  "language_info": {
   "codemirror_mode": {
    "name": "ipython",
    "version": 3
   },
   "file_extension": ".py",
   "mimetype": "text/x-python",
   "name": "python",
   "nbconvert_exporter": "python",
   "pygments_lexer": "ipython3",
   "version": "3.6.12"
  }
 },
 "nbformat": 4,
 "nbformat_minor": 4
}
